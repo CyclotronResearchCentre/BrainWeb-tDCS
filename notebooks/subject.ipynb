{
 "cells": [
  {
   "cell_type": "code",
   "execution_count": null,
   "source": [
    "%load_ext lab_black"
   ],
   "outputs": [],
   "metadata": {
    "tags": [
     "hide_cell"
    ]
   }
  },
  {
   "cell_type": "code",
   "execution_count": null,
   "source": [
    "experiment_id = 0\n",
    "use_gpr = False"
   ],
   "outputs": [],
   "metadata": {
    "tags": [
     "parameters"
    ]
   }
  },
  {
   "cell_type": "code",
   "execution_count": null,
   "source": [
    "\"\"\"Setup the environment.\"\"\"\n",
    "from pathlib import Path\n",
    "import os\n",
    "import sys\n",
    "\n",
    "import arviz as az\n",
    "import bambi as bmb\n",
    "import numpy as np\n",
    "import pandas as pd\n",
    "import matplotlib.pyplot as plt\n",
    "from IPython.display import display, Markdown, HTML\n",
    "\n",
    "# Add utility package to path\n",
    "sys.path.append(os.environ.get(\"BRAINWEB_TDCS_CODE_DIR\", \"../code\"))\n",
    "from brainweb_tdcs import EXPERIMENTS\n",
    "from brainweb_tdcs.plot import (\n",
    "    display_side_by_side,\n",
    "    plot_subject,\n",
    "    plot_posterior,\n",
    ")\n",
    "\n",
    "# Set path data directory\n",
    "if \"BRAINWEB_TDCS_DATA_DIR\" not in os.environ:\n",
    "    os.environ[\"BRAINWEB_TDCS_DATA_DIR\"] = str((Path.cwd() / \"../data\").resolve())\n",
    "\n",
    "# Set the random seed\n",
    "RANDOM_SEED = 1234"
   ],
   "outputs": [],
   "metadata": {
    "tags": [
     "hide_cell"
    ]
   }
  },
  {
   "cell_type": "code",
   "execution_count": null,
   "source": [
    "\"\"\"Set some constants.\"\"\"\n",
    "CAPTIONS = {\n",
    "    \"e\": \"Mean absolute magnitude of the\\nelectric field\",\n",
    "    \"e_r\": \"Mean absolute magnitude of the\\nnormal component of electric field\",\n",
    "}\n",
    "LABELS = {\n",
    "    \"e\": \"$| \\mathbf{e} |$ (mVm$^{-1}$)\",\n",
    "    \"e_r\": \"$| \\mathbf{e}_r |$ (mVm$^{-1}$)\",\n",
    "}\n",
    "FUNC_DICT = {\n",
    "    \"mean\": np.mean,\n",
    "    \"std\": np.std,\n",
    "    \"2.5%\": lambda x: np.percentile(x, 2.5),\n",
    "    \"97.5%\": lambda x: np.percentile(x, 97.5),\n",
    "}"
   ],
   "outputs": [],
   "metadata": {
    "tags": [
     "hide_cell"
    ]
   }
  },
  {
   "cell_type": "code",
   "execution_count": null,
   "source": [
    "\"\"\"Select the experiment.\"\"\"\n",
    "experiment = EXPERIMENTS[experiment_id]\n",
    "display(\n",
    "    Markdown(\n",
    "        \"# Evaluate the effect of the head geometry \"\n",
    "        f\"({experiment.roi}, {experiment.montage} electrodes montage)\"\n",
    "    )\n",
    ")"
   ],
   "outputs": [],
   "metadata": {
    "tags": [
     "hide_input"
    ]
   }
  },
  {
   "cell_type": "code",
   "execution_count": null,
   "source": [
    "display(\n",
    "    HTML(\n",
    "        f\"\"\"\n",
    "<div style=\"background: #efefef; color: #5f5f5f; padding: 15pt;\">\n",
    "    <b style=\"display: inline-block; width: 120pt;\">Region of interest</b> {experiment.roi.long_name} ({experiment.roi})</br>\n",
    "    <b style=\"display: inline-block; width: 120pt;\">Electrodes montage</b> {experiment.montage} ({\"Bipolar\" if experiment.is_bipolar else \"Unipolar\"})</br>\n",
    "    </br>\n",
    "    In this notebook, we evaluate the effect of the head geometry on the electric field computed in the region of interest resulting from the stimulation using the {'realistic distribution' if use_gpr else 'uniform distribution'}.\n",
    "</div>\n",
    "\"\"\"\n",
    "    )\n",
    ")"
   ],
   "outputs": [],
   "metadata": {
    "tags": [
     "hide_input"
    ]
   }
  },
  {
   "cell_type": "markdown",
   "source": [
    "## Data\n",
    "\n",
    "First, we load the data corresponding to this experiment and display the measurements of the average absolute mangitude of the electric field $\\bar{| \\pmb{e} |}$ and of its component normal to the cortical surface $\\bar{| \\pmb{e}_r |}$."
   ],
   "metadata": {}
  },
  {
   "cell_type": "code",
   "execution_count": null,
   "source": [
    "\"\"\"Load the experiment results.\"\"\"\n",
    "if use_gpr:\n",
    "    data = experiment.get_gpr_data()[[\"sub\", \"e\", \"e_r\"]]\n",
    "else:\n",
    "    data = experiment.get_data()[[\"sub\", \"e\", \"e_r\"]]"
   ],
   "outputs": [],
   "metadata": {
    "tags": [
     "hide_cell"
    ]
   }
  },
  {
   "cell_type": "code",
   "execution_count": null,
   "source": [
    "\"\"\"Plot mean absolute magnitude of the electric field and radial component.\"\"\"\n",
    "fig, axs = plt.subplots(1, 2, figsize=(10, 5))\n",
    "for i, voi in enumerate((\"e\", \"e_r\")):\n",
    "    plot_subject(axs[i], voi, experiment, data, LABELS[voi], CAPTIONS[voi])\n",
    "plt.show()\n",
    "columns = [\"mean\", \"std\", \"min\", \"25%\", \"75%\", \"max\"]\n",
    "display_side_by_side(\n",
    "    [\n",
    "        data.groupby(\"sub\").describe()[\"e\"][columns],\n",
    "        data.groupby(\"sub\").describe()[\"e_r\"][columns],\n",
    "    ],\n",
    "    [\"\", \"\"],\n",
    ")"
   ],
   "outputs": [],
   "metadata": {
    "tags": [
     "hide_input"
    ]
   }
  },
  {
   "cell_type": "markdown",
   "source": [
    "## Models\n",
    "\n",
    "To compare the measurements acquired with the different subject head geometries, we use multiple Bayesian linear models:\n",
    "$$\n",
    "Y_i \\sim \\mathcal{N}(\\mu_i, \\sigma_i^2),\n",
    "$$\n",
    "where $Y_i$ is the dependent variable we focus on and\n",
    "$$\n",
    "\\mu_i = \\alpha_i + \\sum_{s \\neq i}^{20} \\beta_s \\cdot X_s + \\varepsilon\n",
    "$$\n",
    "with $\\beta_s$ the slopes, $X_s$ the independent variables and $\\varepsilon$ the error term. We build these models for each subject so that we obtain the pairwise comparison of all the subjects.\n",
    "\n",
    "For all these models, weakly informative priors are set (Westfall, 2017). They are then fitted using the NUTS sampler (Hoffman *et al.*, 2011)."
   ],
   "metadata": {}
  },
  {
   "cell_type": "code",
   "execution_count": null,
   "source": [
    "\"\"\"Define model storages.\"\"\"\n",
    "models = dict(e=None, e_r=None)\n",
    "fits = dict(e=None, e_r=None)\n",
    "summaries = dict(e=None, e_r=None)\n",
    "rope_vs_hdi = dict(e=dict(), e_r=dict())"
   ],
   "outputs": [],
   "metadata": {
    "tags": [
     "hide_cell"
    ]
   }
  },
  {
   "cell_type": "code",
   "execution_count": null,
   "source": [
    "\"\"\"Define indices of the subject to set the references of the models.\"\"\"\n",
    "subs = data[\"sub\"].values\n",
    "sub_ids = data[\"sub\"].unique()\n",
    "for i, sub_id in enumerate(sub_ids):\n",
    "    ids = np.zeros(data.shape[0])\n",
    "    for j in range(sub_ids.size):\n",
    "        ids[subs == sub_ids[(i + j) % sub_ids.size]] = (\n",
    "            j if (i + j) % sub_ids.size >= i else -1\n",
    "        )\n",
    "    data[f\"sub{sub_id}\"] = ids"
   ],
   "outputs": [],
   "metadata": {}
  },
  {
   "cell_type": "code",
   "execution_count": null,
   "source": [
    "\"\"\"Define models.\"\"\"\n",
    "for voi in (\"e\", \"e_r\"):\n",
    "    models[voi] = [\n",
    "        bmb.Model(f\"{voi} ~ C(sub{i})\", data[data[f\"sub{i}\"] >= 0])\n",
    "        for i in sub_ids[:-1]\n",
    "    ]"
   ],
   "outputs": [],
   "metadata": {}
  },
  {
   "cell_type": "code",
   "execution_count": null,
   "source": [
    "\"\"\"Fit models.\"\"\"\n",
    "for voi in (\"e\", \"e_r\"):\n",
    "    fits[voi] = [\n",
    "        model.fit(draws=1000, chains=4, random_seed=RANDOM_SEED)\n",
    "        for model in models[voi]\n",
    "    ]"
   ],
   "outputs": [],
   "metadata": {
    "tags": [
     "hide_output"
    ]
   }
  },
  {
   "cell_type": "code",
   "execution_count": null,
   "source": [
    "\"\"\"Summarize results.\"\"\"\n",
    "for voi in [\"e\", \"e_r\"]:\n",
    "    summaries[voi] = []\n",
    "    for i, sub_id in enumerate(sub_ids[:-1]):\n",
    "        indices = [\n",
    "            \"α\",\n",
    "            *[\n",
    "                f\"β_sub-{sub_ids[(i + j + 1) % sub_ids[i:].size]:02d}\"\n",
    "                for j in range(sub_ids[i:].size - 1)\n",
    "            ],\n",
    "            \"σ\",\n",
    "        ]\n",
    "        summary = az.summary(fits[voi][i], stat_funcs=FUNC_DICT, extend=False)\n",
    "        summary.index = indices\n",
    "        summaries[voi].append(summary)"
   ],
   "outputs": [],
   "metadata": {
    "tags": [
     "hide_cell"
    ]
   }
  },
  {
   "cell_type": "code",
   "execution_count": null,
   "source": [
    "\"\"\"Plot betas for the models.\"\"\"\n",
    "n_subs = sub_ids.size\n",
    "for voi in (\"e\", \"e_r\"):\n",
    "    fig, axs = plt.subplots(n_subs, n_subs, figsize=(40, 40), sharex=\"all\")\n",
    "    rope_vs_hdi[voi] = []\n",
    "    for i, a_id in enumerate(sub_ids[:-1]):\n",
    "        betas = summaries[voi][i].index[1:-1]\n",
    "        rvhs = []\n",
    "        for j, beta in enumerate(betas):\n",
    "            rvh = plot_posterior(\n",
    "                axs[i][(i + j + 1) % n_subs],\n",
    "                experiment,\n",
    "                fits[voi][i],\n",
    "                summaries[voi][i],\n",
    "                f\"C(sub{a_id})\",\n",
    "                \"\",\n",
    "                \"\",\n",
    "                j,\n",
    "                summary_param=beta,\n",
    "                show_zero=True,\n",
    "                beta_suffix=beta.split(\"_\")[1],\n",
    "                rope_width=0.1 * data[voi].std(),\n",
    "            )\n",
    "            rvhs.append(rvh)\n",
    "        rope_vs_hdi[voi].append(rvhs)\n",
    "    fig.tight_layout()\n",
    "    plt.show()"
   ],
   "outputs": [],
   "metadata": {}
  },
  {
   "cell_type": "code",
   "execution_count": null,
   "source": [
    "\"\"\"Get matrices.\"\"\"\n",
    "\n",
    "\n",
    "def display_df(df, title):\n",
    "    display(\n",
    "        HTML(\n",
    "            df.style.set_table_attributes(\"style='display: inline'\")\n",
    "            .set_caption(title)\n",
    "            .format(precision=2)\n",
    "            ._repr_html_()\n",
    "        )\n",
    "    )\n",
    "\n",
    "\n",
    "metrics = dict(e=dict(), e_r=dict())\n",
    "for voi in [\"e\", \"e_r\"]:\n",
    "    display(Markdown(rf\"## $| {voi} |$\"))\n",
    "    for metric in [\"mean\", \"std\", \"2.5%\", \"97.5%\"]:\n",
    "        mat = np.zeros((n_subs, n_subs))\n",
    "        for i, a_id in enumerate(sub_ids[:-1]):\n",
    "            mat[i, i + 1 :] = summaries[voi][i][metric][1:-1]\n",
    "        metrics[voi][metric] = pd.DataFrame(mat, index=sub_ids, columns=sub_ids)\n",
    "        display_df(metrics[voi][metric], metric.capitalize())\n",
    "    for j, metric in enumerate([\"HDI-ROPE\", \"ROPE-HDI\"]):\n",
    "        mat = np.zeros((n_subs, n_subs))\n",
    "        for i, a_id in enumerate(sub_ids[:-1]):\n",
    "            mat[i, i + 1 :] = [v[j] for v in rope_vs_hdi[voi][i]]\n",
    "        metrics[voi][metric] = pd.DataFrame(mat, index=sub_ids, columns=sub_ids)\n",
    "        display_df(metrics[voi][metric], metric.capitalize())"
   ],
   "outputs": [],
   "metadata": {}
  },
  {
   "cell_type": "markdown",
   "source": [
    "## References\n",
    "\n",
    "- Hoffman *et al.* (2011) - https://arxiv.org/abs/1111.4246\n",
    "- Westfall (2017) - https://arxiv.org/abs/1702.01201"
   ],
   "metadata": {}
  }
 ],
 "metadata": {
  "kernelspec": {
   "name": "python3",
   "display_name": "Python 3.9.7 64-bit ('brainweb-tdcs-analysis': conda)"
  },
  "language_info": {
   "codemirror_mode": {
    "name": "ipython",
    "version": 3
   },
   "file_extension": ".py",
   "mimetype": "text/x-python",
   "name": "python",
   "nbconvert_exporter": "python",
   "pygments_lexer": "ipython3",
   "version": "3.9.7"
  },
  "interpreter": {
   "hash": "5ba2998280e55b00045ab89e50c39aa7c6339902ac356192be7d5c5be8991e8b"
  }
 },
 "nbformat": 4,
 "nbformat_minor": 4
}