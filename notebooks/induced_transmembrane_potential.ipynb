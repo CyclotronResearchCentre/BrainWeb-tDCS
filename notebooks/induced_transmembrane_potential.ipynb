{
 "cells": [
  {
   "cell_type": "code",
   "execution_count": null,
   "metadata": {
    "tags": [
     "hide_cell"
    ]
   },
   "outputs": [],
   "source": [
    "%load_ext lab_black"
   ]
  },
  {
   "cell_type": "code",
   "execution_count": null,
   "metadata": {
    "tags": [
     "parameters"
    ]
   },
   "outputs": [],
   "source": [
    "experiment_id = 0"
   ]
  },
  {
   "cell_type": "code",
   "execution_count": null,
   "metadata": {
    "tags": [
     "hide_cell"
    ]
   },
   "outputs": [],
   "source": [
    "\"\"\"Setup the environment.\"\"\"\n",
    "from pathlib import Path\n",
    "import os\n",
    "import sys\n",
    "\n",
    "import numpy as np\n",
    "from numpy.typing import ArrayLike\n",
    "import pandas as pd\n",
    "import matplotlib.pyplot as plt\n",
    "from IPython.display import display, Markdown, HTML\n",
    "\n",
    "# Add utility package to path\n",
    "sys.path.append(os.environ.get(\"BRAINWEB_TDCS_CODE_DIR\", \"../code\"))\n",
    "from brainweb_tdcs import ROIS, EXPERIMENTS\n",
    "from brainweb_tdcs.study import get_experiments_for_roi\n",
    "from brainweb_tdcs.plot import plot_density\n",
    "\n",
    "# Set path data directory\n",
    "if \"BRAINWEB_TDCS_DATA_DIR\" not in os.environ:\n",
    "    os.environ[\"BRAINWEB_TDCS_DATA_DIR\"] = str((Path.cwd() / \"../data\").resolve())"
   ]
  },
  {
   "cell_type": "code",
   "execution_count": null,
   "metadata": {
    "tags": [
     "hide_input"
    ]
   },
   "outputs": [],
   "source": [
    "\"\"\"Select the experiment.\"\"\"\n",
    "experiment = EXPERIMENTS[experiment_id]\n",
    "display(\n",
    "    Markdown(\n",
    "        \"# Compute the induced transmembrane potential ratio to size \"\n",
    "        f\"({experiment.roi}, {experiment.montage} electrodes montage)\"\n",
    "    )\n",
    ")"
   ]
  },
  {
   "cell_type": "code",
   "execution_count": null,
   "metadata": {
    "tags": [
     "hide_input"
    ]
   },
   "outputs": [],
   "source": [
    "display(\n",
    "    HTML(\n",
    "        f\"\"\"\n",
    "<div style=\"background: #efefef; color: #5f5f5f; padding: 15pt;\">\n",
    "    <b style=\"display: inline-block; width: 120pt;\">Region of interest</b> {experiment.roi.long_name} ({experiment.roi})</br>\n",
    "    <b style=\"display: inline-block; width: 120pt;\">Electrodes montage</b> {experiment.montage} ({\"Bipolar\" if experiment.is_bipolar else \"Unipolar\"})</br>\n",
    "    </br>\n",
    "    In this notebook, we compute the induced transmembrane potential in a theoretical cell of the region of interest resulting from the stimulation.\n",
    "</div>\n",
    "\"\"\"\n",
    "    )\n",
    ")"
   ]
  },
  {
   "cell_type": "markdown",
   "metadata": {},
   "source": [
    "## Data\n",
    "\n",
    "First, we load the data corresponding to this experiment and display the probability density of the mean absolute magnitude of the electric field $\\bar{| \\pmb{e} |}$ (mVm$^{-1}$) recorded in the region of interest during the simulations."
   ]
  },
  {
   "cell_type": "code",
   "execution_count": null,
   "metadata": {
    "tags": [
     "hide_cell"
    ]
   },
   "outputs": [],
   "source": [
    "\"\"\"Load the experiment results.\"\"\"\n",
    "e, e_t, e_r = (\n",
    "    experiment.get_data()[[\"e\", \"e_t\", \"e_r\"]].values[:, :, np.newaxis].swapaxes(0, 1)\n",
    ")"
   ]
  },
  {
   "cell_type": "code",
   "execution_count": null,
   "metadata": {
    "tags": [
     "hide_input"
    ]
   },
   "outputs": [],
   "source": [
    "\"\"\"Plot mean absolute magnitude of the electric field.\"\"\"\n",
    "fig, ax = plt.subplots(1, 1, figsize=(10, 5))\n",
    "plot_density(\n",
    "    ax,\n",
    "    pd.Series(e.ravel()),\n",
    "    experiment,\n",
    "    \"$| \\\\bar{\\mathbf{e}} |$ (mVm$^{-1}$)\",\n",
    "    (\n",
    "        \"Probability density of the mean absolute magnitude of the electric field\\n\"\n",
    "        f\"computed in the {experiment.roi} ({experiment.montage} electrodes montage)\"\n",
    "    ),\n",
    ")\n",
    "plt.show()\n",
    "pd.Series(e.ravel()).describe().to_frame().round(3).transpose()[\n",
    "    [\"mean\", \"std\", \"min\", \"25%\", \"75%\", \"max\"]\n",
    "]"
   ]
  },
  {
   "cell_type": "markdown",
   "metadata": {},
   "source": [
    "## Spherical cell\n",
    "\n",
    "The steady-state induced transmembrane potential $\\Delta u_\\text{i}$ (V) on a spherical cell of radius $r_1$ (m) with a non-conductive plasma membrane induced by an external electric field $\\pmb{e}$ (V/m) is described by Schwan's equation (Schwan, 1957)\n",
    "$$\n",
    "\\Delta u_\\text{i} = \\frac{3}{2} | \\pmb{e} | r_1 \\text{cos}(\\theta),\n",
    "$$\n",
    "where $\\theta$ is the angle between the electric field and the vector going from the center of the cell to the point where $\\Delta u_\\text{i}$ is calculated."
   ]
  },
  {
   "cell_type": "markdown",
   "metadata": {},
   "source": [
    "### Maximum value of $\\Delta u_\\text{i}$\n",
    "\n",
    "For this expression of $\\Delta u_\\text{i}$, it is easy to determine the maximum value since it is obtained when $\\theta = 0$. Thus,\n",
    "$$\n",
    "\\text{max}( \\Delta u_\\text{i} ) = \\frac{3}{2} | \\pmb{e} | r_1.\n",
    "$$"
   ]
  },
  {
   "cell_type": "markdown",
   "metadata": {},
   "source": [
    "### Maximum value of $\\Delta u_\\text{i} / r_1$\n",
    "\n",
    "The previous equation can be transformed to determine a ratio between the induced transmembrane potential and the radius of the cell\n",
    "$$\n",
    "\\frac{\\text{max}( \\Delta u_\\text{i} )}{r_1} = \\frac{3}{2} | \\pmb{e} |.\n",
    "$$\n",
    "The ratio is thus independent of the size of the cell and is more informative. To find the maximum induced transmembrane potential, one simply multiplies the results by the size of the cell of interest."
   ]
  },
  {
   "cell_type": "code",
   "execution_count": null,
   "metadata": {},
   "outputs": [],
   "source": [
    "\"\"\"Compute induced transmembrane potential to size ratio for spherical cells.\"\"\"\n",
    "Δu_i_sphere = (3 / 2) * e"
   ]
  },
  {
   "cell_type": "code",
   "execution_count": null,
   "metadata": {
    "tags": [
     "hide_input"
    ]
   },
   "outputs": [],
   "source": [
    "\"\"\"Plot induced transmembrane potential to size ratio for a spherical cell.\"\"\"\n",
    "fig, ax = plt.subplots(1, 1, figsize=(10, 5))\n",
    "plot_density(\n",
    "    ax,\n",
    "    pd.Series(Δu_i_sphere.ravel()),\n",
    "    experiment,\n",
    "    \"$\\Delta u_{i} / r_1$ (mVm$^{-1}$)\",\n",
    "    (\n",
    "        \"Induced transmembrane potential to size ratio for a spherical cell\\n\"\n",
    "        f\"computed in the {experiment.roi} ({experiment.montage} electrodes montage)\"\n",
    "    ),\n",
    ")\n",
    "plt.show()\n",
    "summary = (\n",
    "    pd.Series(Δu_i_sphere.ravel())\n",
    "    .describe()\n",
    "    .to_frame()\n",
    "    .transpose()[[\"mean\", \"std\", \"min\", \"25%\", \"75%\", \"max\"]]\n",
    ").round(3)\n",
    "summary.index = [\"Δu_i\"]\n",
    "summary"
   ]
  },
  {
   "cell_type": "markdown",
   "metadata": {},
   "source": [
    "## Spheroidal cell\n",
    "\n",
    "Now, let us consider a prolate spheroidal cell ($r_1 > r_2 = r_3$) with a shape ratio $\\gamma = r_1 / r_2$. The definition of the induced transmembrane potential for such a cell (Valic *et al.*, 2003) is\n",
    "$$\n",
    "\\Delta u_\\text{i} = | \\pmb{e} | \\text{sin}(\\theta) \\frac{x}{1 - l_x} + | \\pmb{e} | \\text{cos}(\\theta) \\frac{z}{1 - l_z},\n",
    "$$\n",
    "where $x$ and $z$ define the coordinates of the point where $\\Delta u_\\text{i}$ is computed on the surface and $\\theta$ is the angle between the vector going from the center of the cell to the point. The depolarisation factors $l_x$ and $l_z$ depend on the shape of the cell and are given by\n",
    "$$\n",
    "\\begin{split}\n",
    "    l_x = l_y &= \\frac{1}{2} (1 - l_z), \\\\\n",
    "    l_z &= \\frac{1 - \\lambda^2}{2 \\lambda^3} \\left( \\text{log}\\left( \\frac{1 + \\lambda}{1 - \\lambda} \\right) - 2 \\lambda \\right),\n",
    "\\end{split}\n",
    "$$\n",
    "where $\\lambda = \\sqrt{1 - (r_2 / r_1)^2}$.\n",
    "\n",
    "For this work, we consider that the spheroidal cells are elongated along the normal of the cortical surface. This allow us to write\n",
    "$$\n",
    "\\begin{split}\n",
    "    | \\pmb{e} | \\text{sin}(\\theta) &= | \\pmb{e}_t |, \\\\\n",
    "    | \\pmb{e} | \\text{cos}(\\theta) &= | \\pmb{e}_r |,\n",
    "\\end{split}\n",
    "$$\n",
    "where $| \\pmb{e}_t |$ and $| \\pmb{e}_r |$ are respectively referred to as the tangential and radial components of the electric field with regard to the cortical surface. From the expression of an ellipse, we also have\n",
    "$$\n",
    "\\begin{split}\n",
    "    x &= r_2 \\text{sin}(\\varphi), \\\\\n",
    "    z &= r_1 \\text{cos}(\\varphi),\n",
    "\\end{split}\n",
    "$$\n",
    "in which $\\varphi$ is the angle between the main axis of the ellipse and the point where $\\Delta u_\\text{i}$ is calculated. Finally, the expression of the induced transmembrane potential becomes\n",
    "$$\n",
    "\\Delta u_\\text{i} = | \\pmb{e}_t | \\frac{r_2 \\text{sin}(\\varphi)}{1 - l_x} + | \\pmb{e}_r | \\frac{r_1 \\text{cos}(\\varphi)}{1 - l_z}.\n",
    "$$"
   ]
  },
  {
   "cell_type": "markdown",
   "metadata": {},
   "source": [
    "### Maximum value of $\\Delta u_\\text{i}$\n",
    "\n",
    "Since we are only interested in the maximum possible value of $\\Delta u_\\text{i}$, we define the first derivative of the previous equation with regard to $\\varphi$ and get\n",
    "$$\n",
    "\\frac{\\partial}{\\partial \\varphi}\\Delta u_\\text{i} = -| \\pmb{e}_t | \\frac{r_2 \\text{cos}(\\varphi)}{1 - l_x} + | \\pmb{e}_r | \\frac{r_1 \\text{sin}(\\varphi)}{1 - l_z}.\n",
    "$$\n",
    "It is equal to $0$ when $$\n",
    "\\varphi \\pm k \\pi\n",
    "= \\text{atan}\\left( \\frac{| \\pmb{e}_t | r_2 (1 - l_z)}{| \\pmb{e}_r | r_1 (1 - l_x)} \\right)\n",
    "= \\text{atan}\\left( \\frac{| \\pmb{e}_t | (1 - l_z)}{| \\pmb{e}_r | \\gamma (1 - l_x)} \\right)\n",
    "= \\text{atan}\\left( \\eta \\frac{| \\pmb{e}_t |}{| \\pmb{e}_r |} \\right),\n",
    "$$\n",
    "thus we only compute this value."
   ]
  },
  {
   "cell_type": "markdown",
   "metadata": {},
   "source": [
    "### Maximum value of $\\Delta u_\\text{i} / r_1$\n",
    "\n",
    "Once again, we define the expression of the ratio between the induced transmembrane potential and the size of the cell. It is possible because $r_1$ and $r_2$ are linked together by $\\gamma$. Consequently, we have\n",
    "$$\n",
    "\\Delta u_\\text{i}\n",
    "= | \\pmb{e}_t | \\frac{r_1 \\text{sin}(\\varphi)}{\\gamma (1 - l_x)} + | \\pmb{e}_r | \\frac{r_1 \\text{cos}(\\varphi)}{1 - l_z}\n",
    "= r_1 \\left( | \\pmb{e}_t | \\frac{ \\text{sin}(\\varphi)}{\\gamma (1 - l_x)} + | \\pmb{e}_r | \\frac{\\text{cos}(\\varphi)}{1 - l_z} \\right),\n",
    "$$\n",
    "which leads to the ratio we are interested in\n",
    "$$\n",
    "\\frac{\\Delta u_\\text{i}}{r_1} = | \\pmb{e}_t | \\frac{ \\text{sin}(\\varphi)}{\\gamma (1 - l_x)} + | \\pmb{e}_r | \\frac{\\text{cos}(\\varphi)}{1 - l_z}.\n",
    "$$"
   ]
  },
  {
   "cell_type": "code",
   "execution_count": null,
   "metadata": {},
   "outputs": [],
   "source": [
    "\"\"\"Define shape ratios.\"\"\"\n",
    "γ = np.array([10 / 8, 10 / 5, 10 / 2])"
   ]
  },
  {
   "cell_type": "code",
   "execution_count": null,
   "metadata": {
    "tags": [
     "hide_cell"
    ]
   },
   "outputs": [],
   "source": [
    "\"\"\"Compute required parameters.\"\"\"\n",
    "γ = γ[np.newaxis, :]"
   ]
  },
  {
   "cell_type": "code",
   "execution_count": null,
   "metadata": {},
   "outputs": [],
   "source": [
    "\"\"\"Compute depolarization factors.\"\"\"\n",
    "λ = np.sqrt(1 - (1 / γ) ** 2)\n",
    "l_z = ((1 - λ**2) / (2 * λ**3)) * (np.log((1 + λ) / (1 - λ)) - 2 * λ)\n",
    "l_x = (1 - l_z) / 2"
   ]
  },
  {
   "cell_type": "code",
   "execution_count": null,
   "metadata": {},
   "outputs": [],
   "source": [
    "\"\"\"Compute angle maximizing the induced transmembrane potential.\"\"\"\n",
    "η = (1 - l_z) / (γ * (1 - l_x))\n",
    "φ = np.arctan(η * e_t / e_r)"
   ]
  },
  {
   "cell_type": "code",
   "execution_count": null,
   "metadata": {},
   "outputs": [],
   "source": [
    "\"\"\"Compute induced transmembrane potential to size ratio for spheroidal cells.\"\"\"\n",
    "Δu_i_spheroid = e_t / γ * np.sin(φ) * (1 - l_x) + e_r * np.cos(φ) * (1 - l_z)"
   ]
  },
  {
   "cell_type": "code",
   "execution_count": null,
   "metadata": {
    "tags": [
     "hide_input"
    ]
   },
   "outputs": [],
   "source": [
    "\"\"\"Plot induced transmembrane potential to size ratio for a spheroidal cell.\"\"\"\n",
    "fig, ax = plt.subplots(1, 1, figsize=(10, 5))\n",
    "plot_density(\n",
    "    ax,\n",
    "    pd.Series(Δu_i_spheroid.ravel()),\n",
    "    experiment,\n",
    "    \"$\\Delta u_{i} / r_1$ (mVm$^{-1}$)\",\n",
    "    (\n",
    "        \"Induced transmembrane potential to size ratio for a spheroidal cell\\n\"\n",
    "        f\"computed in the {experiment.roi} ({experiment.montage} electrodes montage)\"\n",
    "    ),\n",
    ")\n",
    "plt.show()\n",
    "summary = (\n",
    "    pd.DataFrame(Δu_i_spheroid)\n",
    "    .describe()\n",
    "    .transpose()[[\"mean\", \"std\", \"min\", \"25%\", \"75%\", \"max\"]]\n",
    ").round(3)\n",
    "summary.index = [f\"Δu_i (γ={gamma})\" for gamma in (\"10/8\", \"10/5\", \"10/2\")]\n",
    "summary"
   ]
  },
  {
   "cell_type": "markdown",
   "metadata": {},
   "source": [
    "## References\n",
    "\n",
    "- Schwan (1957) - https://doi.org/10.1016/B978-1-4832-3111-2.50008-0\n",
    "- Valic *et al.* (2003) - https://doi.org/10.1007/s00249-003-0296-9"
   ]
  }
 ],
 "metadata": {
  "kernelspec": {
   "display_name": "brainweb-tdcs-analysis",
   "language": "python",
   "name": "brainweb-tdcs-analysis"
  },
  "language_info": {
   "codemirror_mode": {
    "name": "ipython",
    "version": 3
   },
   "file_extension": ".py",
   "mimetype": "text/x-python",
   "name": "python",
   "nbconvert_exporter": "python",
   "pygments_lexer": "ipython3",
   "version": "3.9.7"
  }
 },
 "nbformat": 4,
 "nbformat_minor": 4
}
