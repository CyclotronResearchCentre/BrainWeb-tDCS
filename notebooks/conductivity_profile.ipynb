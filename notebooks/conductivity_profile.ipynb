{
 "cells": [
  {
   "cell_type": "code",
   "execution_count": null,
   "metadata": {
    "tags": [
     "hide_cell"
    ]
   },
   "outputs": [],
   "source": [
    "%load_ext lab_black"
   ]
  },
  {
   "cell_type": "code",
   "execution_count": null,
   "metadata": {
    "tags": [
     "parameters"
    ]
   },
   "outputs": [],
   "source": [
    "experiment_id = 0\n",
    "use_gpr = False"
   ]
  },
  {
   "cell_type": "code",
   "execution_count": null,
   "metadata": {
    "tags": [
     "hide_cell"
    ]
   },
   "outputs": [],
   "source": [
    "\"\"\"Setup the environment.\"\"\"\n",
    "from pathlib import Path\n",
    "import os\n",
    "import sys\n",
    "\n",
    "import arviz as az\n",
    "import bambi as bmb\n",
    "import numpy as np\n",
    "import pandas as pd\n",
    "import matplotlib.pyplot as plt\n",
    "from IPython.display import display, Markdown, HTML\n",
    "\n",
    "# Add utility package to path\n",
    "sys.path.append(os.environ.get(\"BRAINWEB_TDCS_CODE_DIR\", \"../code\"))\n",
    "from brainweb_tdcs import ROIS, EXPERIMENTS\n",
    "from brainweb_tdcs.study import get_experiments_for_roi, log_marginal_likelihood\n",
    "from brainweb_tdcs.plot import (\n",
    "    display_side_by_side,\n",
    "    plot_conductivity_categorical,\n",
    "    plot_posterior,\n",
    ")\n",
    "\n",
    "# Set path data directory\n",
    "if \"BRAINWEB_TDCS_DATA_DIR\" not in os.environ:\n",
    "    os.environ[\"BRAINWEB_TDCS_DATA_DIR\"] = str((Path.cwd() / \"../data\").resolve())\n",
    "\n",
    "# Set the random seed\n",
    "RANDOM_SEED = 1234"
   ]
  },
  {
   "cell_type": "code",
   "execution_count": null,
   "metadata": {
    "tags": [
     "hide_cell"
    ]
   },
   "outputs": [],
   "source": [
    "\"\"\"Set some constants.\"\"\"\n",
    "CAPTIONS = {\n",
    "    \"e\": \"Magnitude of the\\nelectric field\",\n",
    "    \"e_r\": \"Magnitude of the\\nnormal component of electric field\",\n",
    "}\n",
    "LABELS = {\n",
    "    \"e\": \"$| \\mathbf{e} |$ (mVm$^{-1}$)\",\n",
    "    \"e_r\": \"$| \\mathbf{e}_r |$ (mVm$^{-1}$)\",\n",
    "}\n",
    "FUNC_DICT = {\n",
    "    \"mean\": np.mean,\n",
    "    \"std\": np.std,\n",
    "    \"2.5%\": lambda x: np.percentile(x, 2.5),\n",
    "    \"97.5%\": lambda x: np.percentile(x, 97.5),\n",
    "}"
   ]
  },
  {
   "cell_type": "code",
   "execution_count": null,
   "metadata": {
    "tags": [
     "hide_input"
    ]
   },
   "outputs": [],
   "source": [
    "\"\"\"Select the experiment.\"\"\"\n",
    "experiment = EXPERIMENTS[experiment_id]\n",
    "display(\n",
    "    Markdown(\n",
    "        \"# Evaluate the effect of the conductivity profile \"\n",
    "        f\"({experiment.roi}, {experiment.montage} electrodes montage)\"\n",
    "    )\n",
    ")"
   ]
  },
  {
   "cell_type": "code",
   "execution_count": null,
   "metadata": {
    "tags": [
     "hide_input"
    ]
   },
   "outputs": [],
   "source": [
    "display(\n",
    "    HTML(\n",
    "        f\"\"\"\n",
    "<div style=\"background: #efefef; color: #5f5f5f; padding: 15pt;\">\n",
    "    <b style=\"display: inline-block; width: 120pt;\">Region of interest</b> {experiment.roi.long_name} ({experiment.roi})</br>\n",
    "    <b style=\"display: inline-block; width: 120pt;\">Electrodes montage</b> {experiment.montage} ({\"Bipolar\" if experiment.is_bipolar else \"Unipolar\"})</br>\n",
    "    </br>\n",
    "    In this notebook, we evaluate the effect of the conductivity profile on the electric field computed in the region of interest resulting from the stimulation using the {'uniform distribution' if use_gpr else 'realistic distribution'}.\n",
    "</div>\n",
    "\"\"\"\n",
    "    )\n",
    ")"
   ]
  },
  {
   "cell_type": "markdown",
   "metadata": {},
   "source": [
    "## Data\n",
    "\n",
    "First, we load the data corresponding to this experiment and display the measurements of the average absolute mangitude of the electric field $\\bar{| \\pmb{e} |}$ and of its component normal to the cortical surface $\\bar{| \\pmb{e}_r |}$."
   ]
  },
  {
   "cell_type": "code",
   "execution_count": null,
   "metadata": {},
   "outputs": [],
   "source": [
    "\"\"\"Load the experiment results.\"\"\"\n",
    "if use_gpr:\n",
    "    data = experiment.get_gpr_data()[[\"sub\", \"k\", \"k_id\", \"e\", \"e_r\"]]\n",
    "else:\n",
    "    data = experiment.get_data()[[\"sub\", \"k\", \"k_id\", \"e\", \"e_r\"]]"
   ]
  },
  {
   "cell_type": "code",
   "execution_count": null,
   "metadata": {
    "tags": [
     "hide_input"
    ]
   },
   "outputs": [],
   "source": [
    "fig, axs = plt.subplots(1, 2, figsize=(10, 5))\n",
    "for i, voi in enumerate((\"e\", \"e_r\")):\n",
    "    plot_conductivity_categorical(\n",
    "        axs[i], voi, experiment, data, LABELS[voi], CAPTIONS[voi]\n",
    "    )\n",
    "plt.show()\n",
    "columns = [\"mean\", \"std\", \"min\", \"25%\", \"75%\", \"max\"]\n",
    "display_side_by_side(\n",
    "    [\n",
    "        data.groupby(\"k\").describe()[\"e\"][columns],\n",
    "        data.groupby(\"k\").describe()[\"e_r\"][columns],\n",
    "    ],\n",
    "    [\"\", \"\"],\n",
    ")"
   ]
  },
  {
   "cell_type": "markdown",
   "metadata": {},
   "source": [
    "The data regarding the conductivity profile is already formatted. The `\"k\"` column contains the name of the conductivity profile (`\"reference\"` and `\"halton_i\"`) while the column `\"k_id\"` contains an integer ranging from $0$ to $20$ included ($0$ corresponding to the reference conductivity profile)."
   ]
  },
  {
   "cell_type": "markdown",
   "metadata": {},
   "source": [
    "## Models\n",
    "\n",
    "To compare the measurements acquired with the different conductivity profiles, we use a Bayesian linear model:\n",
    "$$\n",
    "Y \\sim \\mathcal{N}(\\mu, \\sigma^2),\n",
    "$$\n",
    "where $Y$ is the dependent variable we focus on and\n",
    "$$\n",
    "\\mu = \\alpha + \\sum_{k=1}^{20} \\beta_k \\cdot X_k + \\varepsilon\n",
    "$$\n",
    "with $\\alpha$ the intercept, $\\pmb{\\beta} = [\\beta_1, \\; \\dots, \\: \\beta_{20}]$ the slopes, $\\pmb{X} = [X_1, \\: \\dots, \\: X_{20}]^\\top$ the vector of independent variables and $\\varepsilon$ the error term. The values of $X_k$ are either $1$ if the value in `\"k_id\"` is equal to $k$ or $0$ otherwise. This way, the reference population is described by $\\alpha + \\varepsilon$ and the values of each $\\beta_k$ correspond to the difference between the reference population and the measurements resulting from the $k$-th conductivity profile.\n",
    "\n",
    "This model is referred to as the \"*pooled model*\" because it does not account for the hierarchy of the data (*i.e* some measurements belong correspond to the same subject). Hence, we also consider another model that we refer to as the \"*hierarchic model*\" which is defined as\n",
    "$$\n",
    "Y \\sim \\mathcal{N}(\\mu_i, \\sigma^2), \\forall i \\in [1, 20]\n",
    "$$\n",
    "where $i$ corresponds to the $i$-th subject and\n",
    "$$\n",
    "\\mu_i = \\alpha_i + \\sum_{k=1}^{20} (\\beta_k)_i \\cdot X_k + \\varepsilon.\n",
    "$$\n",
    "The definition of both the intercept and the slopes thus depend on the subject and become\n",
    "$$\n",
    "\\begin{split}\n",
    "    \\alpha_i &= \\alpha^{(com)} + \\alpha_i^{(sub)}, \\\\\n",
    "    (\\beta_k)_i &= \\beta_k^{(com)} + (\\beta_k^{(sub)})_i,\n",
    "\\end{split}\n",
    "$$\n",
    "with $\\alpha^{(com)}$ and $\\beta_k^{(com)}$ respectively the common part of the intercept and of the slopes and $\\alpha_i^{(sub)}$ and $(\\beta_k^{(sub)})_i$ the subject specific part of the intercept and of the slopes.\n",
    "\n",
    "For both the pooled and the hierarchic models, weakly informative priors are set (Westfall, 2017). They are then fitted using the NUTS sampler (Hoffman *et al.*, 2011)."
   ]
  },
  {
   "cell_type": "code",
   "execution_count": null,
   "metadata": {
    "tags": [
     "hide_cell"
    ]
   },
   "outputs": [],
   "source": [
    "\"\"\"Define model storages.\"\"\"\n",
    "models = dict(\n",
    "    e=dict(pooled=None, hierarchic=None), e_r=dict(pooled=None, hierarchic=None)\n",
    ")\n",
    "fits = dict(\n",
    "    e=dict(pooled=None, hierarchic=None), e_r=dict(pooled=None, hierarchic=None)\n",
    ")\n",
    "summaries = dict(\n",
    "    e=dict(pooled=None, hierarchic=None), e_r=dict(pooled=None, hierarchic=None)\n",
    ")\n",
    "rope_vs_hdi = dict(\n",
    "    e=dict(pooled=dict(), hierarchic=dict()), e_r=dict(pooled=dict(), hierarchic=dict())\n",
    ")"
   ]
  },
  {
   "cell_type": "markdown",
   "metadata": {},
   "source": [
    "## Pooled model"
   ]
  },
  {
   "cell_type": "code",
   "execution_count": null,
   "metadata": {},
   "outputs": [],
   "source": [
    "\"\"\"Define models.\"\"\"\n",
    "for voi in (\"e\", \"e_r\"):\n",
    "    models[voi][\"pooled\"] = bmb.Model(f\"{voi} ~ C(k_id)\", data)"
   ]
  },
  {
   "cell_type": "code",
   "execution_count": null,
   "metadata": {
    "tags": [
     "hide_output"
    ]
   },
   "outputs": [],
   "source": [
    "\"\"\"Fit models.\"\"\"\n",
    "for voi in (\"e\", \"e_r\"):\n",
    "    fits[voi][\"pooled\"] = models[voi][\"pooled\"].fit(\n",
    "        draws=1000, chains=4, random_seed=RANDOM_SEED\n",
    "    )"
   ]
  },
  {
   "cell_type": "code",
   "execution_count": null,
   "metadata": {
    "tags": [
     "hide_cell"
    ]
   },
   "outputs": [],
   "source": [
    "\"\"\"Summarize results.\"\"\"\n",
    "indices = [\"α\", *[f\"β_{k}\" for k in data[\"k\"].unique()[1:]], \"σ\"]\n",
    "for voi in (\"e\", \"e_r\"):\n",
    "    summaries[voi][\"pooled\"] = az.summary(\n",
    "        fits[voi][\"pooled\"], stat_funcs=FUNC_DICT, extend=False\n",
    "    )\n",
    "    summaries[voi][\"pooled\"].index = indices"
   ]
  },
  {
   "cell_type": "code",
   "execution_count": null,
   "metadata": {
    "tags": [
     "hide_input"
    ]
   },
   "outputs": [],
   "source": [
    "\"\"\"Plot betas for the pooled models.\"\"\"\n",
    "n_beta = len(indices[1:-1])\n",
    "fig, axs = plt.subplots(n_beta, 2, figsize=(10, n_beta * 1.5), sharex=\"col\")\n",
    "for i, beta in enumerate(indices[1:-1]):\n",
    "    suffix = beta.split(\"_\")[1]\n",
    "    for j, voi in enumerate((\"e\", \"e_r\")):\n",
    "        rope_vs_hdi[voi][\"pooled\"][beta] = plot_posterior(\n",
    "            axs[i][j],\n",
    "            experiment,\n",
    "            fits[voi][\"pooled\"],\n",
    "            summaries[voi][\"pooled\"],\n",
    "            \"C(k_id)\",\n",
    "            LABELS[voi] if i == n_beta - 1 else \"\",\n",
    "            CAPTIONS[voi] if i == 0 else \"\",\n",
    "            i,\n",
    "            summary_param=beta,\n",
    "            show_zero=True,\n",
    "            beta_suffix=suffix,\n",
    "            rope_width=0.1 * data[voi].std(),\n",
    "        )\n",
    "fig.tight_layout()\n",
    "plt.show()\n",
    "display_side_by_side(\n",
    "    [\n",
    "        pd.concat(\n",
    "            (\n",
    "                summaries[voi][\"pooled\"],\n",
    "                pd.DataFrame.from_dict(\n",
    "                    rope_vs_hdi[voi][\"pooled\"],\n",
    "                    orient=\"index\",\n",
    "                    columns=[\"HDI ⊂ ROPE\", \"ROPE ⊂ HDI\"],\n",
    "                ),\n",
    "            ),\n",
    "            axis=1,\n",
    "        )\n",
    "        for voi in (\"e\", \"e_r\")\n",
    "    ],\n",
    "    [\"\", \"\"],\n",
    ")"
   ]
  },
  {
   "cell_type": "markdown",
   "metadata": {},
   "source": [
    "## Hierarchic model"
   ]
  },
  {
   "cell_type": "code",
   "execution_count": null,
   "metadata": {},
   "outputs": [],
   "source": [
    "\"\"\"Define the models.\"\"\"\n",
    "for voi in (\"e\", \"e_r\"):\n",
    "    models[voi][\"hierarchic\"] = bmb.Model(f\"{voi} ~ C(k_id) + (C(k_id) | sub)\", data)"
   ]
  },
  {
   "cell_type": "code",
   "execution_count": null,
   "metadata": {
    "tags": [
     "hide_output"
    ]
   },
   "outputs": [],
   "source": [
    "\"\"\"Fit the models.\"\"\"\n",
    "for voi in (\"e\", \"e_r\"):\n",
    "    fits[voi][\"hierarchic\"] = models[voi][\"hierarchic\"].fit(\n",
    "        draws=1000, chains=4, random_seed=RANDOM_SEED, target_accept=0.9\n",
    "    )"
   ]
  },
  {
   "cell_type": "code",
   "execution_count": null,
   "metadata": {
    "tags": [
     "hide_cell"
    ]
   },
   "outputs": [],
   "source": [
    "\"\"\"Summarize the results.\"\"\"\n",
    "indices = [\n",
    "    \"α^(com)\",\n",
    "    *[f\"β^(com)_{k}\" for k in data[\"k\"].unique()[1:]],\n",
    "    \"σ(α^(sub))\",\n",
    "    *[f\"α^(sub)_{i}\" for i in range(len(data[\"sub\"].unique()))],\n",
    "    *[f\"σ(β^(sub)_{k})\" for k in data[\"k\"].unique()[1:]],\n",
    "    *[\n",
    "        f\"(β^(sub)_{k})_{i}\"\n",
    "        for k in data[\"k\"].unique()[1:]\n",
    "        for i in range(len(data[\"sub\"].unique()))\n",
    "    ],\n",
    "    \"σ\",\n",
    "]\n",
    "for voi in (\"e\", \"e_r\"):\n",
    "    summaries[voi][\"hierarchic\"] = az.summary(\n",
    "        fits[voi][\"hierarchic\"], stat_funcs=FUNC_DICT, extend=False\n",
    "    )\n",
    "    summaries[voi][\"hierarchic\"].index = indices"
   ]
  },
  {
   "cell_type": "code",
   "execution_count": null,
   "metadata": {
    "tags": [
     "hide_input"
    ]
   },
   "outputs": [],
   "source": [
    "\"\"\"Plot betas for the hierarchic models.\"\"\"\n",
    "n_beta = len(indices[1:21])\n",
    "fig, axs = plt.subplots(n_beta, 2, figsize=(10, n_beta * 1.5), sharex=\"col\")\n",
    "for i, beta in enumerate(indices[1:21]):\n",
    "    suffix = beta.split(\"_\")[1]\n",
    "    for j, voi in enumerate((\"e\", \"e_r\")):\n",
    "        rope_vs_hdi[voi][\"hierarchic\"][beta] = plot_posterior(\n",
    "            axs[i][j],\n",
    "            experiment,\n",
    "            fits[voi][\"hierarchic\"],\n",
    "            summaries[voi][\"hierarchic\"],\n",
    "            \"C(k_id)\",\n",
    "            LABELS[voi] if i == n_beta - 1 else \"\",\n",
    "            CAPTIONS[voi] if i == 0 else \"\",\n",
    "            i,\n",
    "            summary_param=beta,\n",
    "            show_zero=True,\n",
    "            beta_suffix=suffix,\n",
    "            rope_width=0.1 * data[voi].std(),\n",
    "        )\n",
    "fig.tight_layout()\n",
    "plt.show()\n",
    "rows = [\"α^(com)\", \"σ(α^(sub))\"]\n",
    "for i in range(1, 21):\n",
    "    rows += [f\"β^(com)_halton_{i}\", f\"σ(β^(sub)_halton_{i})\"] if not use_gpr else [f\"β^(com)_gpr_{i}\", f\"σ(β^(sub)_gpr_{i})\"]\n",
    "rows += \"σ\"\n",
    "display_side_by_side(\n",
    "    [\n",
    "        pd.concat(\n",
    "            (\n",
    "                summaries[voi][\"hierarchic\"].loc[rows, :],\n",
    "                pd.DataFrame.from_dict(\n",
    "                    rope_vs_hdi[voi][\"hierarchic\"],\n",
    "                    orient=\"index\",\n",
    "                    columns=[\"HDI ⊂ ROPE\", \"ROPE ⊂ HDI\"],\n",
    "                ),\n",
    "            ),\n",
    "            axis=1,\n",
    "        )\n",
    "        for voi in (\"e\", \"e_r\")\n",
    "    ],\n",
    "    [\"\", \"\"],\n",
    ")"
   ]
  },
  {
   "cell_type": "markdown",
   "metadata": {},
   "source": [
    "## References\n",
    "\n",
    "- Hoffman *et al.* (2011) - https://arxiv.org/abs/1111.4246\n",
    "- Westfall (2017) - https://arxiv.org/abs/1702.01201"
   ]
  }
 ],
 "metadata": {
  "kernelspec": {
   "display_name": "brainweb-tdcs-analysis",
   "language": "python",
   "name": "brainweb-tdcs-analysis"
  },
  "language_info": {
   "codemirror_mode": {
    "name": "ipython",
    "version": 3
   },
   "file_extension": ".py",
   "mimetype": "text/x-python",
   "name": "python",
   "nbconvert_exporter": "python",
   "pygments_lexer": "ipython3",
   "version": "3.9.7"
  }
 },
 "nbformat": 4,
 "nbformat_minor": 4
}
