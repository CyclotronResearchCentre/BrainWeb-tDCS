{
 "cells": [
  {
   "cell_type": "code",
   "execution_count": null,
   "source": [
    "%load_ext lab_black"
   ],
   "outputs": [],
   "metadata": {
    "tags": [
     "hide_cell"
    ]
   }
  },
  {
   "cell_type": "code",
   "execution_count": null,
   "source": [
    "roi_id = 0\n",
    "use_gpr = False"
   ],
   "outputs": [],
   "metadata": {
    "tags": [
     "parameters"
    ]
   }
  },
  {
   "cell_type": "code",
   "execution_count": null,
   "source": [
    "\"\"\"Setup the environment.\"\"\"\n",
    "from pathlib import Path\n",
    "import os\n",
    "import sys\n",
    "\n",
    "import arviz as az\n",
    "import bambi as bmb\n",
    "import numpy as np\n",
    "import pandas as pd\n",
    "import matplotlib.pyplot as plt\n",
    "from IPython.display import display, Markdown, HTML\n",
    "\n",
    "# Add utility package to path\n",
    "sys.path.append(os.environ.get(\"BRAINWEB_TDCS_CODE_DIR\", \"../code\"))\n",
    "from brainweb_tdcs import ROIS\n",
    "from brainweb_tdcs.study import get_experiments_for_roi, log_marginal_likelihood\n",
    "from brainweb_tdcs.plot import (\n",
    "    display_side_by_side,\n",
    "    plot_bipolar_unipolar,\n",
    "    plot_posterior,\n",
    ")\n",
    "\n",
    "# Set path data directory\n",
    "if \"BRAINWEB_TDCS_DATA_DIR\" not in os.environ:\n",
    "    os.environ[\"BRAINWEB_TDCS_DATA_DIR\"] = str((Path.cwd() / \"../data\").resolve())\n",
    "\n",
    "# Set the random seed\n",
    "RANDOM_SEED = 1234"
   ],
   "outputs": [],
   "metadata": {
    "tags": [
     "hide_cell"
    ]
   }
  },
  {
   "cell_type": "code",
   "execution_count": null,
   "source": [
    "\"\"\"Set some constants.\"\"\"\n",
    "CAPTIONS = {\n",
    "    \"e\": \"Mean absolute magnitude of the\\nelectric field\",\n",
    "    \"e_r\": \"Mean absolute magnitude of the\\nnormal component of electric field\",\n",
    "}\n",
    "LABELS = {\n",
    "    \"e\": \"$| \\mathbf{e} |$ (mVm$^{-1}$)\",\n",
    "    \"e_r\": \"$| \\mathbf{e}_r |$ (mVm$^{-1}$)\",\n",
    "}\n",
    "FUNC_DICT = {\n",
    "    \"mean\": np.mean,\n",
    "    \"std\": np.std,\n",
    "    \"2.5%\": lambda x: np.percentile(x, 2.5),\n",
    "    \"97.5%\": lambda x: np.percentile(x, 97.5),\n",
    "}"
   ],
   "outputs": [],
   "metadata": {
    "tags": [
     "hide_cell"
    ]
   }
  },
  {
   "cell_type": "code",
   "execution_count": null,
   "source": [
    "roi = ROIS[roi_id]\n",
    "experiments = get_experiments_for_roi(roi)\n",
    "experiments\n",
    "display(Markdown(\"# Compare bipolar and unipolar electrodes montages \" f\"({roi})\"))"
   ],
   "outputs": [],
   "metadata": {
    "tags": [
     "hide_input"
    ]
   }
  },
  {
   "cell_type": "code",
   "execution_count": null,
   "source": [
    "display(\n",
    "    HTML(\n",
    "        f\"\"\"\n",
    "<div style=\"background: #efefef; color: #5f5f5f; padding: 15pt;\">\n",
    "    <b style=\"display: inline-block; width: 120pt;\">Region of interest</b> {roi.long_name} ({roi})</br>\n",
    "    <b style=\"display: inline-block; width: 120pt;\">Electrodes montages</b> {experiments[0].montage} (Bipolar) and {experiments[1].montage} (Unipolar)</br>\n",
    "    </br>\n",
    "    In this notebook, we compare the effect of a bipolar stimulation to the effect of a unipolar stimulation on the electric field computed in the region of interest resulting from the stimulations using the {'realistic distribution' if use_gpr else 'uniform distribution'}.\n",
    "</div>\n",
    "\"\"\"\n",
    "    )\n",
    ")"
   ],
   "outputs": [],
   "metadata": {
    "tags": [
     "hide_input"
    ]
   }
  },
  {
   "cell_type": "markdown",
   "source": [
    "## Data\n",
    "\n",
    "First, we load the data corresponding to the experiments and concatenate it inot a single data frame. We also add a `\"montage\"` column to keep track of which type of montage the records were acquired with (`\"bipolar\"` or `\"unipolar\"`). Then we display the values of the mean absolute magnitude of the electric field $\\bar{| \\pmb{e} |}$ and of its component normal to the cortical surface $\\bar{| \\pmb{e}_r |}$."
   ],
   "metadata": {}
  },
  {
   "cell_type": "code",
   "execution_count": null,
   "source": [
    "dfs = list()\n",
    "for e in experiments:\n",
    "    df = e.get_data() if not use_gpr else e.get_gpr_data()\n",
    "    df[\"montage\"] = \"bipolar\" if e.is_bipolar else \"unipolar\"\n",
    "    dfs.append(df[[\"sub\", \"montage\", \"e\", \"e_r\"]])\n",
    "data = pd.concat(dfs, axis=0, ignore_index=True)"
   ],
   "outputs": [],
   "metadata": {
    "tags": [
     "hide_cell"
    ]
   }
  },
  {
   "cell_type": "code",
   "execution_count": null,
   "source": [
    "fig, axs = plt.subplots(1, 2, figsize=(10, 5))\n",
    "for i, voi in enumerate((\"e\", \"e_r\")):\n",
    "    plot_bipolar_unipolar(axs[i], voi, experiments[0], data, LABELS[voi], CAPTIONS[voi])\n",
    "plt.show()\n",
    "columns = [\"mean\", \"std\", \"min\", \"25%\", \"75%\", \"max\"]\n",
    "display_side_by_side(\n",
    "    [\n",
    "        data.groupby(\"montage\").describe()[\"e\"][columns],\n",
    "        data.groupby(\"montage\").describe()[\"e_r\"][columns],\n",
    "    ],\n",
    "    [\"\", \"\"],\n",
    ")"
   ],
   "outputs": [],
   "metadata": {
    "tags": [
     "hide_input"
    ]
   }
  },
  {
   "cell_type": "markdown",
   "source": [
    "## Models\n",
    "\n",
    "To compare the measurements acquired with the different electrodes montages, we use a Bayesian linear model:\n",
    "$$\n",
    "Y \\sim \\mathcal{N}(\\mu, \\sigma^2),\n",
    "$$\n",
    "where $Y$ is the dependent variable we focus on and\n",
    "$$\n",
    "\\mu = \\alpha + \\beta_{uni} \\cdot X_{uni} + \\varepsilon\n",
    "$$\n",
    "with $\\alpha$ the intercept, $\\beta_{uni}$ the slope, $X_{uni}$ the independent variable and $\\varepsilon$ the error term. The values of $X_{uni}$ are either $1$ if the value in `\"montage\"` is equal to `\"unipolar\"` or $0$ otherwise. This way, the bipolar population is described by $\\alpha + \\varepsilon$ and the value $\\beta_{uni}$ corresponds to the difference between the bipolar and unipolar populations.\n",
    "\n",
    "This model is referred to as the \"*pooled model*\" because it does not account for the hierarchy of the data (*i.e* some measurements belong correspond to the same subject). Hence, we also consider another model that we refer to as the \"*hierarchic model*\" which is defined as\n",
    "$$\n",
    "Y \\sim \\mathcal{N}(\\mu_i, \\sigma^2), \\forall i \\in [1, 20]\n",
    "$$\n",
    "where $i$ corresponds to the $i$-th subject and\n",
    "$$\n",
    "\\mu_i = \\alpha_i + (\\beta_{uni})_i \\cdot X_{uni} + \\varepsilon.\n",
    "$$\n",
    "The definition of both the intercept and the slope thus depend on the subject and become\n",
    "$$\n",
    "\\begin{split}\n",
    "    \\alpha_i &= \\alpha^{(com)} + \\alpha_i^{(sub)}, \\\\\n",
    "    (\\beta_{uni})_i &= \\beta_{uni}^{(com)} + (\\beta_{uni}^{(sub)})_i,\n",
    "\\end{split}\n",
    "$$\n",
    "with $\\alpha^{(com)}$ and $\\beta_{uni}^{(com)}$ respectively the common part of the intercept and of the slope and $\\alpha_i^{(sub)}$ and $(\\beta_{uni}^{(sub)})_i$ the subject specific part of the intercept and of the slope.\n",
    "\n",
    "For both the pooled and the hierarchic models, weakly informative priors are set (Westfall, 2017). They are then fitted using the NUTS sampler (Hoffman *et al.*, 2011)."
   ],
   "metadata": {}
  },
  {
   "cell_type": "code",
   "execution_count": null,
   "source": [
    "\"\"\"Define model storages.\"\"\"\n",
    "models = dict(\n",
    "    e=dict(pooled=None, hierarchic=None), e_r=dict(pooled=None, hierarchic=None)\n",
    ")\n",
    "fits = dict(\n",
    "    e=dict(pooled=None, hierarchic=None), e_r=dict(pooled=None, hierarchic=None)\n",
    ")\n",
    "summaries = dict(\n",
    "    e=dict(pooled=None, hierarchic=None), e_r=dict(pooled=None, hierarchic=None)\n",
    ")\n",
    "rope_vs_hdi = dict(\n",
    "    e=dict(pooled=dict(), hierarchic=dict()), e_r=dict(pooled=dict(), hierarchic=dict())\n",
    ")"
   ],
   "outputs": [],
   "metadata": {
    "tags": [
     "hide_cell"
    ]
   }
  },
  {
   "cell_type": "markdown",
   "source": [
    "## Pooled model"
   ],
   "metadata": {}
  },
  {
   "cell_type": "code",
   "execution_count": null,
   "source": [
    "\"\"\"Define models.\"\"\"\n",
    "for voi in (\"e\", \"e_r\"):\n",
    "    models[voi][\"pooled\"] = bmb.Model(f\"{voi} ~ montage\", data)"
   ],
   "outputs": [],
   "metadata": {}
  },
  {
   "cell_type": "code",
   "execution_count": null,
   "source": [
    "\"\"\"Fit models.\"\"\"\n",
    "for voi in (\"e\", \"e_r\"):\n",
    "    fits[voi][\"pooled\"] = models[voi][\"pooled\"].fit(\n",
    "        draws=1000, chains=4, random_seed=RANDOM_SEED\n",
    "    )"
   ],
   "outputs": [],
   "metadata": {
    "tags": [
     "hide_output"
    ]
   }
  },
  {
   "cell_type": "code",
   "execution_count": null,
   "source": [
    "\"\"\"Summarize results.\"\"\"\n",
    "indices = [\"α\", \"β_uni\", \"σ\"]\n",
    "for voi in (\"e\", \"e_r\"):\n",
    "    summaries[voi][\"pooled\"] = az.summary(\n",
    "        fits[voi][\"pooled\"], stat_funcs=FUNC_DICT, extend=False\n",
    "    )\n",
    "    summaries[voi][\"pooled\"].index = indices"
   ],
   "outputs": [],
   "metadata": {
    "tags": [
     "hide_cell"
    ]
   }
  },
  {
   "cell_type": "code",
   "execution_count": null,
   "source": [
    "fig, axs = plt.subplots(1, 2, figsize=(10, 3.5))\n",
    "for i, voi in enumerate((\"e\", \"e_r\")):\n",
    "    rope_vs_hdi[voi][\"pooled\"][\"β_uni\"] = plot_posterior(\n",
    "        axs[i],\n",
    "        experiments[0],\n",
    "        fits[voi][\"pooled\"],\n",
    "        summaries[voi][\"pooled\"],\n",
    "        \"montage\",\n",
    "        LABELS[voi],\n",
    "        CAPTIONS[voi],\n",
    "        summary_param=\"β_uni\",\n",
    "        show_zero=True,\n",
    "        beta_suffix=\"uni\",\n",
    "        rope_width=0.1 * data[voi].std(),\n",
    "    )\n",
    "fig.tight_layout()\n",
    "plt.show()\n",
    "display_side_by_side(\n",
    "    [\n",
    "        pd.concat(\n",
    "            (\n",
    "                summaries[voi][\"pooled\"],\n",
    "                pd.DataFrame.from_dict(\n",
    "                    rope_vs_hdi[voi][\"pooled\"],\n",
    "                    orient=\"index\",\n",
    "                    columns=[\"HDI ⊂ ROPE\", \"ROPE ⊂ HDI\"],\n",
    "                ),\n",
    "            ),\n",
    "            axis=1,\n",
    "        )\n",
    "        for voi in (\"e\", \"e_r\")\n",
    "    ],\n",
    "    [\"\", \"\"],\n",
    ")"
   ],
   "outputs": [],
   "metadata": {
    "tags": [
     "hide_input"
    ]
   }
  },
  {
   "cell_type": "markdown",
   "source": [
    "## Hierarchic model"
   ],
   "metadata": {}
  },
  {
   "cell_type": "code",
   "execution_count": null,
   "source": [
    "\"\"\"Define models.\"\"\"\n",
    "for voi in (\"e\", \"e_r\"):\n",
    "    models[voi][\"hierarchic\"] = bmb.Model(f\"{voi} ~ montage + (montage | C(sub))\", data)"
   ],
   "outputs": [],
   "metadata": {}
  },
  {
   "cell_type": "code",
   "execution_count": null,
   "source": [
    "\"\"\"Fit models.\"\"\"\n",
    "for voi in (\"e\", \"e_r\"):\n",
    "    fits[voi][\"hierarchic\"] = models[voi][\"hierarchic\"].fit(\n",
    "        draws=1000, chains=4, random_seed=RANDOM_SEED\n",
    "    )"
   ],
   "outputs": [],
   "metadata": {
    "tags": [
     "hide_output"
    ]
   }
  },
  {
   "cell_type": "code",
   "execution_count": null,
   "source": [
    "\"\"\"Summarize results.\"\"\"\n",
    "indices = [\n",
    "    \"α^(com)\",\n",
    "    \"β^(com)_uni\",\n",
    "    \"σ(α^(sub))\",\n",
    "    *[f\"α^(sub)_{i}\" for i in range(len(data[\"sub\"].unique()))],\n",
    "    \"σ(β^(sub)_uni)\",\n",
    "    *[f\"β^(sub)_uni_{i}\" for i in range(len(data[\"sub\"].unique()))],\n",
    "    \"σ\",\n",
    "]\n",
    "for voi in (\"e\", \"e_r\"):\n",
    "    summaries[voi][\"hierarchic\"] = az.summary(\n",
    "        fits[voi][\"hierarchic\"], stat_funcs=FUNC_DICT, extend=False\n",
    "    )\n",
    "    summaries[voi][\"hierarchic\"].index = indices"
   ],
   "outputs": [],
   "metadata": {
    "tags": [
     "hide_cell"
    ]
   }
  },
  {
   "cell_type": "code",
   "execution_count": null,
   "source": [
    "fig, axs = plt.subplots(1, 2, figsize=(10, 3.5))\n",
    "for i, voi in enumerate((\"e\", \"e_r\")):\n",
    "    rope_vs_hdi[voi][\"hierarchic\"][\"β^(com)_uni\"] = plot_posterior(\n",
    "        axs[i],\n",
    "        experiments[0],\n",
    "        fits[voi][\"hierarchic\"],\n",
    "        summaries[voi][\"hierarchic\"],\n",
    "        \"montage\",\n",
    "        LABELS[\"e\"],\n",
    "        CAPTIONS[\"e\"],\n",
    "        summary_param=\"β^(com)_uni\",\n",
    "        show_zero=True,\n",
    "        beta_suffix=\"uni\",\n",
    "        rope_width=0.1 * data[voi].std(),\n",
    "    )\n",
    "fig.tight_layout()\n",
    "plt.show()\n",
    "rows = [\"α^(com)\", \"σ(α^(sub))\", \"β^(com)_uni\", \"σ(β^(sub)_uni)\", \"σ\"]\n",
    "display_side_by_side(\n",
    "    [\n",
    "        pd.concat(\n",
    "            (\n",
    "                summaries[voi][\"hierarchic\"].loc[rows, :],\n",
    "                pd.DataFrame.from_dict(\n",
    "                    rope_vs_hdi[voi][\"hierarchic\"],\n",
    "                    orient=\"index\",\n",
    "                    columns=[\"HDI ⊂ ROPE\", \"ROPE ⊂ HDI\"],\n",
    "                ),\n",
    "            ),\n",
    "            axis=1,\n",
    "        )\n",
    "        for voi in (\"e\", \"e_r\")\n",
    "    ],\n",
    "    [\"\", \"\"],\n",
    ")"
   ],
   "outputs": [],
   "metadata": {
    "tags": [
     "hide_input"
    ]
   }
  },
  {
   "cell_type": "markdown",
   "source": [
    "## References\n",
    "\n",
    "- Hoffman *et al.* (2011) - https://arxiv.org/abs/1111.4246\n",
    "- Westfall (2017) - https://arxiv.org/abs/1702.01201"
   ],
   "metadata": {}
  }
 ],
 "metadata": {
  "kernelspec": {
   "display_name": "brainweb-tdcs-analysis",
   "language": "python",
   "name": "brainweb-tdcs-analysis"
  },
  "language_info": {
   "codemirror_mode": {
    "name": "ipython",
    "version": 3
   },
   "file_extension": ".py",
   "mimetype": "text/x-python",
   "name": "python",
   "nbconvert_exporter": "python",
   "pygments_lexer": "ipython3",
   "version": "3.9.7"
  }
 },
 "nbformat": 4,
 "nbformat_minor": 4
}